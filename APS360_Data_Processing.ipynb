{
  "nbformat": 4,
  "nbformat_minor": 0,
  "metadata": {
    "colab": {
      "name": "APS360-Data-Processing.ipynb",
      "provenance": [],
      "collapsed_sections": []
    },
    "kernelspec": {
      "name": "python3",
      "display_name": "Python 3"
    }
  },
  "cells": [
    {
      "cell_type": "code",
      "metadata": {
        "colab": {
          "base_uri": "https://localhost:8080/"
        },
        "id": "AfV2UKi-lNYX",
        "outputId": "47140cf1-3a8d-44e4-f56a-0553f48c4553"
      },
      "source": [
        "from google.colab import drive\n",
        "drive.mount('/content/drive', force_remount=True)"
      ],
      "execution_count": null,
      "outputs": [
        {
          "output_type": "stream",
          "text": [
            "Mounted at /content/drive\n"
          ],
          "name": "stdout"
        }
      ]
    },
    {
      "cell_type": "code",
      "metadata": {
        "id": "C5Q7F8gfm_E6"
      },
      "source": [
        "!unzip /content/drive/MyDrive/APS360-Project-Data/archive.zip  -d /content/drive/MyDrive/APS360-Project-Data"
      ],
      "execution_count": null,
      "outputs": []
    },
    {
      "cell_type": "code",
      "metadata": {
        "id": "uUcj53zBrowe"
      },
      "source": [
        "from PIL import Image\n",
        "import os\n",
        "import numpy as np\n",
        "from bs4 import BeautifulSoup"
      ],
      "execution_count": null,
      "outputs": []
    },
    {
      "cell_type": "code",
      "metadata": {
        "id": "NSXxbUYmQDJA",
        "colab": {
          "base_uri": "https://localhost:8080/"
        },
        "outputId": "a7445162-2014-4a64-81dc-014500ce5639"
      },
      "source": [
        "!ls /content/drive/MyDrive/APS360-Project-Data/images | wc -l"
      ],
      "execution_count": null,
      "outputs": [
        {
          "output_type": "stream",
          "text": [
            "433\n"
          ],
          "name": "stdout"
        }
      ]
    },
    {
      "cell_type": "code",
      "metadata": {
        "id": "3ABP_GmQ2LXM"
      },
      "source": [
        "dire_image_resized = '/content/drive/MyDrive/APS360-Project-Data/images_resized_test'\n",
        "if(os.path.isdir(dire_image_resized) == False):\n",
        "  os.mkdir(dire_image_resized)\n",
        "\n",
        "dire_labels = '/content/drive/MyDrive/APS360-Project-Data/labels_test'\n",
        "if(os.path.isdir(dire_labels) == False):\n",
        "  os.mkdir(dire_labels)"
      ],
      "execution_count": null,
      "outputs": []
    },
    {
      "cell_type": "code",
      "metadata": {
        "id": "kngKHAXLmA8M"
      },
      "source": [
        "#resize images and format labels \n",
        "index = 0\n",
        "\n",
        "new_width = 512\n",
        "new_height = 512\n",
        "\n",
        "for i in range(433):\n",
        "  #parse xml files \n",
        "  path = '/content/drive/MyDrive/APS360-Project-Data/annotations/Cars{}.xml'.format(i)\n",
        "  with open(path) as f:\n",
        "    xml_file = f.read()\n",
        "\n",
        "  bs_data = BeautifulSoup(xml_file, 'xml')\n",
        "  box_xmin = bs_data.find_all('xmin')\n",
        "\n",
        "  #skip images with multiple LPs\n",
        "  if len(box_xmin) > 1:\n",
        "    continue\n",
        "\n",
        "  #read width and height of the image\n",
        "  image_width = bs_data.find_all('width')[0].string\n",
        "  image_height = bs_data.find_all('height')[0].string\n",
        "\n",
        "  #read bounding box coordinates from xml file\n",
        "  box_xmin = bs_data.find_all('xmin')[0].string\n",
        "  box_ymin = bs_data.find_all('ymin')[0].string\n",
        "  box_xmax = bs_data.find_all('xmax')[0].string\n",
        "  box_ymax = bs_data.find_all('ymax')[0].string\n",
        "\n",
        "  box_xmin_resized = new_width / float(image_width) * float(box_xmin)\n",
        "  box_ymin_resized = new_height / float(image_height) * float(box_ymin)\n",
        "  box_xmax_resized = new_width / float(image_width) * float(box_xmax)\n",
        "  box_ymax_resized = new_height / float(image_height) * float(box_ymax)\n",
        "\n",
        "  #normalize center coordinates and width, height to 0~1\n",
        "  center_x = 0.5 * (box_xmin_resized + box_xmax_resized) / new_width\n",
        "  center_y = 0.5 * (box_ymin_resized + box_ymax_resized) / new_height\n",
        "\n",
        "  width = (box_xmax_resized - box_xmin_resized) / new_width\n",
        "  height = (box_ymax_resized - box_ymin_resized) / new_height\n",
        "\n",
        "  #box_coordinates = [box_xmin_resized, box_ymin_resized, box_xmax_resized, box_ymax_resized]\n",
        "  box_coordinates = [center_x, center_y, width, height]\n",
        "\n",
        "  np.savetxt('/content/drive/MyDrive/APS360-Project-Data/dataset_from_Kaggle/labels/label{}.txt'.format(index), box_coordinates, fmt='%f', newline=' ')\n",
        "\n",
        "  #resize image\n",
        "  image = Image.open(r'/content/drive/MyDrive/APS360-Project-Data/images/Cars{}.png'.format(i))\n",
        "  image = image.convert('RGB')\n",
        "\n",
        "  image = image.resize((512, 512))\n",
        "  \n",
        "\n",
        "  image.save('/content/drive/MyDrive/APS360-Project-Data/dataset_from_Kaggle/images/Cars{}_resized_old_{}.jpg'.format(index, i))\n",
        "  image.show()\n",
        "\n",
        "  index += 1\n",
        "  \n",
        "\n"
      ],
      "execution_count": null,
      "outputs": []
    },
    {
      "cell_type": "code",
      "metadata": {
        "colab": {
          "base_uri": "https://localhost:8080/"
        },
        "id": "PuAwive_4Ldx",
        "outputId": "a82caa1e-1f0b-4bcc-937b-3323906177ca"
      },
      "source": [
        "!ls /content/drive/MyDrive/APS360-Project-Data/dataset_from_Kaggle/images | wc -l"
      ],
      "execution_count": null,
      "outputs": [
        {
          "output_type": "stream",
          "text": [
            "409\n"
          ],
          "name": "stdout"
        }
      ]
    },
    {
      "cell_type": "code",
      "metadata": {
        "colab": {
          "base_uri": "https://localhost:8080/"
        },
        "id": "TvJUXDZD4TkP",
        "outputId": "1c774a9b-6b27-448f-ce36-de854da20316"
      },
      "source": [
        "!ls /content/drive/MyDrive/APS360-Project-Data/dataset_from_Kaggle/labels | wc -l"
      ],
      "execution_count": null,
      "outputs": [
        {
          "output_type": "stream",
          "text": [
            "409\n"
          ],
          "name": "stdout"
        }
      ]
    },
    {
      "cell_type": "code",
      "metadata": {
        "id": "N1GjIH6VT48_",
        "colab": {
          "base_uri": "https://localhost:8080/"
        },
        "outputId": "e0d6b97b-a7ea-4433-ef9b-5e66eebc99f0"
      },
      "source": [
        "!ls /content/drive/MyDrive/APS360-Project-Data/CCPD-base-partial > /content/drive/MyDrive/APS360-Project-Data/filename.txt"
      ],
      "execution_count": null,
      "outputs": [
        {
          "output_type": "stream",
          "text": [
            "/bin/bash: /content/drive/MyDrive/APS360-Project-Data/filename.txt: No such file or directory\n"
          ],
          "name": "stdout"
        }
      ]
    },
    {
      "cell_type": "code",
      "metadata": {
        "id": "t-mxRch_QeXr"
      },
      "source": [
        "dire_CCPD_resized = '/content/drive/MyDrive/APS360-Project-Data/CCPD_resized'\n",
        "if(os.path.isdir(dire_CCPD_resized) == False):\n",
        "  os.mkdir(dire_CCPD_resized)\n",
        "\n",
        "dire_CCPD_labels = '/content/drive/MyDrive/APS360-Project-Data/CCPD_labels'\n",
        "if(os.path.isdir(dire_CCPD_labels) == False):\n",
        "  os.mkdir(dire_CCPD_labels)\n",
        "\n"
      ],
      "execution_count": null,
      "outputs": []
    },
    {
      "cell_type": "code",
      "metadata": {
        "id": "GqrWwTkNUifm"
      },
      "source": [
        "f = open('/content/drive/MyDrive/APS360-Project-Data/test.txt', 'r')\n",
        "line = f.readline()\n",
        "\n",
        "while len(line) > 1:\n",
        "  print(line)\n",
        "  line = f.readline()"
      ],
      "execution_count": null,
      "outputs": []
    },
    {
      "cell_type": "code",
      "metadata": {
        "colab": {
          "base_uri": "https://localhost:8080/"
        },
        "id": "iWHGhCr9YelG",
        "outputId": "2f5e681d-f178-486b-c19b-80eb69ecd4cc"
      },
      "source": [
        "!ls /content/drive/MyDrive/APS360-Project-Data/CCPD-base-partial | wc -l"
      ],
      "execution_count": null,
      "outputs": [
        {
          "output_type": "stream",
          "text": [
            "3910\n"
          ],
          "name": "stdout"
        }
      ]
    },
    {
      "cell_type": "code",
      "metadata": {
        "colab": {
          "base_uri": "https://localhost:8080/"
        },
        "id": "6ofLcUVJ6A4C",
        "outputId": "8262dccd-44f9-4064-df39-40365a4797f8"
      },
      "source": [
        "!du -sh /content/drive/MyDrive/APS360-Project-Data/CCPD-base-partial"
      ],
      "execution_count": null,
      "outputs": [
        {
          "output_type": "stream",
          "text": [
            "276M\t/content/drive/MyDrive/APS360-Project-Data/CCPD-base-partial\n"
          ],
          "name": "stdout"
        }
      ]
    },
    {
      "cell_type": "code",
      "metadata": {
        "id": "CbL4n-go7E6j"
      },
      "source": [
        "f = open('/content/drive/MyDrive/APS360-Project-Data/filename.txt', 'r')\n",
        "\n",
        "line = f.readline()\n",
        "resize_to = (256, 256)\n",
        "count = 0\n",
        "\n",
        "while len(line) > 1 and count < 5:\n",
        "  line = line.rstrip('\\n')\n",
        "  path = os.path.join('/content/drive/MyDrive/APS360-Project-Data/CCPD-base-partial', line)\n",
        "  image = Image.open(path)\n",
        "\n",
        "  image = image.convert('RGB')\n",
        "\n",
        "  image = image.resize(resize_to)\n",
        "\n",
        "  image.save('/content/drive/MyDrive/APS360-Project-Data/CCPD_resized_test/resized{}.jpg'.format(count))\n",
        "\n",
        "  image.show()\n",
        "  count += 1\n",
        "  line = f.readline()\n",
        "\n",
        "f.close()"
      ],
      "execution_count": null,
      "outputs": []
    },
    {
      "cell_type": "code",
      "metadata": {
        "id": "0cRthzTzXZpQ"
      },
      "source": [
        "f = open('/content/drive/MyDrive/APS360-Project-Data/filename.txt', 'r')\n",
        "\n",
        "line = f.readline()\n",
        "#print(line)\n",
        "#line = line[:-1]\n",
        "#print(line)\n",
        "\n",
        "resize_to = (512, 512)\n",
        "\n",
        "count = 0\n",
        "while len(line) > 1:\n",
        "  if count % 10 <= 5:\n",
        "    saving_path = '/content/drive/MyDrive/APS360-Project-Data/dataset_CCPD_resized/train'\n",
        "  elif count % 10 <= 7:\n",
        "    saving_path = '/content/drive/MyDrive/APS360-Project-Data/dataset_CCPD_resized/val'\n",
        "  else:\n",
        "    saving_path = '/content/drive/MyDrive/APS360-Project-Data/dataset_CCPD_resized/test'\n",
        "\n",
        "  line = line.rstrip('\\n')\n",
        "  path = os.path.join('/content/drive/MyDrive/APS360-Project-Data/CCPD-base-partial', line)\n",
        "  image = Image.open(path)\n",
        "  \n",
        "  old_width, old_height = image.size\n",
        "  #print(\"old size: \", old_width, ' ', old_height)\n",
        "\n",
        "  # if old_width != 720 and old_height != 1160:\n",
        "  #   print(\"diff size: \")\n",
        "  #   print(\"old size: \", old_width, ' ', old_height)\n",
        "  #   break\n",
        "  \n",
        "  image = image.convert('RGB')\n",
        "\n",
        "  image = image.resize(resize_to)\n",
        "\n",
        "  #new_width, new_height = image.size\n",
        "  #print(\"new size: \", new_width, ' ', new_height, '\\n')\n",
        "\n",
        "  \n",
        "  image_saving_path = os.path.join(saving_path, 'images')\n",
        "  image.save(os.path.join(image_saving_path, 'resized{}.jpg'.format(count)))\n",
        "\n",
        "  image.show()\n",
        "  \n",
        "  # #save labels\n",
        "  items = line.split('-')\n",
        "\n",
        "  # coords = items[3].split('_')\n",
        "\n",
        "  # coord1_x, coord1_y = coords[0].split('&')\n",
        "  # coord2_x, coord2_y = coords[1].split('&')\n",
        "  # coord3_x, coord3_y = coords[2].split('&')\n",
        "  # coord4_x, coord4_y = coords[3].split('&')\n",
        "\n",
        "  # bottom_right_x = new_width / float(old_width) * float(coord1_x)\n",
        "  # bottom_right_y = new_height / float(old_height) * float(coord1_y)\n",
        "\n",
        "  # bottom_left_x = new_width / float(old_width) * float(coord2_x)\n",
        "  # bottom_left_y = new_height / float(old_height) * float(coord2_y)\n",
        "\n",
        "  # top_left_x = new_width / float(old_width) * float(coord3_x)\n",
        "  # top_left_y = new_height / float(old_height) * float(coord3_y)\n",
        "  \n",
        "  # top_right_x = new_width / float(old_width) * float(coord4_x)\n",
        "  # top_right_y = new_height / float(old_height) * float(coord4_y)\n",
        "  coords = items[2].split('_')\n",
        "  box_xmin, box_ymin = coords[0].split('&')\n",
        "  box_xmax, box_ymax = coords[1].split('&')\n",
        "\n",
        "  #normalize center coordinates and width, height to 0~1\n",
        "  center_x = 0.5 * (float(box_xmin) + float(box_xmax)) / old_width\n",
        "  center_y = 0.5 * (float(box_ymin) + float(box_ymax)) / old_height\n",
        "\n",
        "  width = (float(box_xmax) - float(box_xmin)) / old_width\n",
        "  height = (float(box_ymax) - float(box_ymin)) / old_height\n",
        "\n",
        "  #label_coordinates = [bottom_right_x, bottom_right_y, bottom_left_x, bottom_left_y, top_left_x, top_left_y, top_right_x, top_right_y]\n",
        "  box_coordinates = [center_x, center_y, width, height]\n",
        "\n",
        "  label_saving_path = os.path.join(saving_path, 'labels')\n",
        "  \n",
        "  np.savetxt(os.path.join(label_saving_path, 'label{}.txt'.format(count)), box_coordinates, fmt='%f', newline=' ')\n",
        "\n",
        "  count += 1\n",
        "\n",
        "  line = f.readline()\n",
        "\n",
        "# print(\"All images have the same size\")\n",
        "# print(\"There are {} images\".format(count))\n",
        "f.close()\n",
        "  \n",
        "\n"
      ],
      "execution_count": null,
      "outputs": []
    },
    {
      "cell_type": "code",
      "metadata": {
        "colab": {
          "base_uri": "https://localhost:8080/"
        },
        "id": "OilHcWOz-zrf",
        "outputId": "176bb6b7-6db2-4f60-dfcf-87589e6c61b3"
      },
      "source": [
        "!ls /content/drive/MyDrive/APS360-Project-Data/dataset_CCPD_resized/train/images | wc -l"
      ],
      "execution_count": null,
      "outputs": [
        {
          "output_type": "stream",
          "text": [
            "2346\n"
          ],
          "name": "stdout"
        }
      ]
    },
    {
      "cell_type": "code",
      "metadata": {
        "colab": {
          "base_uri": "https://localhost:8080/"
        },
        "id": "bkxhnBmZ--gs",
        "outputId": "b5605f21-eed9-41be-c91e-3900b75d735a"
      },
      "source": [
        "!ls /content/drive/MyDrive/APS360-Project-Data/dataset_CCPD_resized/val/images | wc -l"
      ],
      "execution_count": null,
      "outputs": [
        {
          "output_type": "stream",
          "text": [
            "782\n"
          ],
          "name": "stdout"
        }
      ]
    },
    {
      "cell_type": "code",
      "metadata": {
        "colab": {
          "base_uri": "https://localhost:8080/"
        },
        "id": "JorlX70s_HNc",
        "outputId": "549d2ca8-6198-4db0-9494-18380386eb10"
      },
      "source": [
        "!ls /content/drive/MyDrive/APS360-Project-Data/dataset_CCPD_resized/test/images | wc -l"
      ],
      "execution_count": null,
      "outputs": [
        {
          "output_type": "stream",
          "text": [
            "782\n"
          ],
          "name": "stdout"
        }
      ]
    },
    {
      "cell_type": "code",
      "metadata": {
        "id": "8TOdW_mAapud"
      },
      "source": [
        "!unzip /content/drive/MyDrive/APS360-Project-Data/nx9xbs4rgx-2.zip -d /content/drive/MyDrive/APS360-Project-Data"
      ],
      "execution_count": null,
      "outputs": []
    },
    {
      "cell_type": "code",
      "metadata": {
        "id": "lwMN-P3RdshZ"
      },
      "source": [
        "dire_image_to_crop = '/content/drive/MyDrive/APS360-Project-Data/image_to_crop'\n",
        "if(os.path.isdir(dire_image_to_crop) == False):\n",
        "  os.mkdir(dire_image_to_crop)"
      ],
      "execution_count": null,
      "outputs": []
    },
    {
      "cell_type": "code",
      "metadata": {
        "id": "44RBO0l6eJQN"
      },
      "source": [
        "!mv /content/drive/MyDrive/APS360-Project-Data/images/*.JPG /content/drive/MyDrive/APS360-Project-Data/image_to_crop"
      ],
      "execution_count": null,
      "outputs": []
    },
    {
      "cell_type": "code",
      "metadata": {
        "id": "YSo7SdzMb6on"
      },
      "source": [
        "dir = '/content/drive/MyDrive/APS360-Project-Data/images'\n",
        "\n",
        "dire_cropped_LP = '/content/drive/MyDrive/APS360-Project-Data/LP_cropped'\n",
        "if(os.path.isdir(dire_cropped_LP) == False):\n",
        "  os.mkdir(dire_cropped_LP)\n",
        "\n",
        "for i in range(5):\n",
        "  #crop LP from image\n",
        "  image = Image.open(r'/content/drive/MyDrive/APS360-Project-Data/image_to_crop/cropped_parking_lot_{}.JPG'.format(i+1))\n",
        "  image = image.convert('RGB')\n",
        "\n",
        "  f = open('/content/drive/MyDrive/APS360-Project-Data/cropped_parking_lot_{}.txt'.format(i+1), 'r')"
      ],
      "execution_count": null,
      "outputs": []
    }
  ]
}